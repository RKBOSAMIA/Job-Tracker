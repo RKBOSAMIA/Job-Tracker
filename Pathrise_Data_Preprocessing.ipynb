{
  "nbformat": 4,
  "nbformat_minor": 0,
  "metadata": {
    "colab": {
      "name": "Pathrise- Data Preprocessing.ipynb",
      "provenance": [],
      "collapsed_sections": []
    },
    "kernelspec": {
      "name": "python3",
      "display_name": "Python 3"
    }
  },
  "cells": [
    {
      "cell_type": "markdown",
      "metadata": {
        "id": "qRHm_v1m81r9"
      },
      "source": [
        "**IPython Notebook: To Preprocess the data for identifying the Job Sources and storing the data to the DataBase.**\n"
      ]
    },
    {
      "cell_type": "code",
      "metadata": {
        "id": "r7g68tYg9_-B"
      },
      "source": [
        "import pandas as pd                 # TO HANDLE DATAFRAMES\n",
        "import collections                  \n",
        "import sqlite3                      # DATABASE TO STORE DATA AND FOR FUTURE QUERYING\n",
        "from urllib.parse import urlparse   # PARSE DOMAIN NAME FROM THE URL\n",
        "import json"
      ],
      "execution_count": null,
      "outputs": []
    },
    {
      "cell_type": "code",
      "metadata": {
        "id": "z3IRGsjWADnl"
      },
      "source": [
        "jobs_path = '/content/drive/MyDrive/Pathrise-Assignment/Files/job_opportunities.csv'\n",
        "jobBoards_path = '/content/drive/MyDrive/Pathrise-Assignment/Files/jobBoards.json'"
      ],
      "execution_count": null,
      "outputs": []
    },
    {
      "cell_type": "code",
      "metadata": {
        "colab": {
          "base_uri": "https://localhost:8080/",
          "height": 204
        },
        "id": "A0jmFc0qAZeH",
        "outputId": "4819685f-0782-4ff9-f627-094eb335769d"
      },
      "source": [
        "# df ->  DATAFRAME THAT HANDLES THE JOB OPPORTUNITIES DATA\n",
        "df = pd.read_csv(jobs_path)\n",
        "df.head()"
      ],
      "execution_count": null,
      "outputs": [
        {
          "output_type": "execute_result",
          "data": {
            "text/html": [
              "<div>\n",
              "<style scoped>\n",
              "    .dataframe tbody tr th:only-of-type {\n",
              "        vertical-align: middle;\n",
              "    }\n",
              "\n",
              "    .dataframe tbody tr th {\n",
              "        vertical-align: top;\n",
              "    }\n",
              "\n",
              "    .dataframe thead th {\n",
              "        text-align: right;\n",
              "    }\n",
              "</style>\n",
              "<table border=\"1\" class=\"dataframe\">\n",
              "  <thead>\n",
              "    <tr style=\"text-align: right;\">\n",
              "      <th></th>\n",
              "      <th>ID (primary key)</th>\n",
              "      <th>Job Title</th>\n",
              "      <th>Company Name</th>\n",
              "      <th>Job URL</th>\n",
              "    </tr>\n",
              "  </thead>\n",
              "  <tbody>\n",
              "    <tr>\n",
              "      <th>0</th>\n",
              "      <td>125114</td>\n",
              "      <td>Junior Software Engineer</td>\n",
              "      <td>talend</td>\n",
              "      <td>https://www.linkedin.com/jobs/view/2357043904/...</td>\n",
              "    </tr>\n",
              "    <tr>\n",
              "      <th>1</th>\n",
              "      <td>125115</td>\n",
              "      <td>Junior Software Engineer</td>\n",
              "      <td>Talend</td>\n",
              "      <td>https://jobs.lever.co/talend/d6f028a9-cafd-42f...</td>\n",
              "    </tr>\n",
              "    <tr>\n",
              "      <th>2</th>\n",
              "      <td>125116</td>\n",
              "      <td>Junior Software Engineer</td>\n",
              "      <td>Talend</td>\n",
              "      <td>https://jobs.lever.co/talend/d6f028a9-cafd-42f...</td>\n",
              "    </tr>\n",
              "    <tr>\n",
              "      <th>3</th>\n",
              "      <td>125117</td>\n",
              "      <td>NaN</td>\n",
              "      <td>Unknown</td>\n",
              "      <td>https://hopjump.com/jobs.html?2398218?gh_jid=2...</td>\n",
              "    </tr>\n",
              "    <tr>\n",
              "      <th>4</th>\n",
              "      <td>110964</td>\n",
              "      <td>NaN</td>\n",
              "      <td>Unknown</td>\n",
              "      <td>https://mail.google.com/mail/u/1/#inbox</td>\n",
              "    </tr>\n",
              "  </tbody>\n",
              "</table>\n",
              "</div>"
            ],
            "text/plain": [
              "   ID (primary key)  ...                                            Job URL\n",
              "0            125114  ...  https://www.linkedin.com/jobs/view/2357043904/...\n",
              "1            125115  ...  https://jobs.lever.co/talend/d6f028a9-cafd-42f...\n",
              "2            125116  ...  https://jobs.lever.co/talend/d6f028a9-cafd-42f...\n",
              "3            125117  ...  https://hopjump.com/jobs.html?2398218?gh_jid=2...\n",
              "4            110964  ...            https://mail.google.com/mail/u/1/#inbox\n",
              "\n",
              "[5 rows x 4 columns]"
            ]
          },
          "metadata": {
            "tags": []
          },
          "execution_count": 4
        }
      ]
    },
    {
      "cell_type": "code",
      "metadata": {
        "colab": {
          "base_uri": "https://localhost:8080/",
          "height": 204
        },
        "id": "oPEbZPplyaUx",
        "outputId": "bc19c1c0-6cb5-49d5-faa6-f1adcb41dedc"
      },
      "source": [
        "# RENAME THE COLUMN NAMES IN A FORMAT SIMILAR TO THE COLUMN NAMES IN THE DATABASE (REMOVING SPACES)\n",
        "df = df.rename(columns={\"ID (primary key)\":\"id\",'Job Title':'job_title','Company Name':'company_name','Job URL':'job_url'})\n",
        "df['job_source']= None\n",
        "df.head()"
      ],
      "execution_count": null,
      "outputs": [
        {
          "output_type": "execute_result",
          "data": {
            "text/html": [
              "<div>\n",
              "<style scoped>\n",
              "    .dataframe tbody tr th:only-of-type {\n",
              "        vertical-align: middle;\n",
              "    }\n",
              "\n",
              "    .dataframe tbody tr th {\n",
              "        vertical-align: top;\n",
              "    }\n",
              "\n",
              "    .dataframe thead th {\n",
              "        text-align: right;\n",
              "    }\n",
              "</style>\n",
              "<table border=\"1\" class=\"dataframe\">\n",
              "  <thead>\n",
              "    <tr style=\"text-align: right;\">\n",
              "      <th></th>\n",
              "      <th>id</th>\n",
              "      <th>job_title</th>\n",
              "      <th>company_name</th>\n",
              "      <th>job_url</th>\n",
              "      <th>job_source</th>\n",
              "    </tr>\n",
              "  </thead>\n",
              "  <tbody>\n",
              "    <tr>\n",
              "      <th>0</th>\n",
              "      <td>125114</td>\n",
              "      <td>Junior Software Engineer</td>\n",
              "      <td>talend</td>\n",
              "      <td>https://www.linkedin.com/jobs/view/2357043904/...</td>\n",
              "      <td>None</td>\n",
              "    </tr>\n",
              "    <tr>\n",
              "      <th>1</th>\n",
              "      <td>125115</td>\n",
              "      <td>Junior Software Engineer</td>\n",
              "      <td>Talend</td>\n",
              "      <td>https://jobs.lever.co/talend/d6f028a9-cafd-42f...</td>\n",
              "      <td>None</td>\n",
              "    </tr>\n",
              "    <tr>\n",
              "      <th>2</th>\n",
              "      <td>125116</td>\n",
              "      <td>Junior Software Engineer</td>\n",
              "      <td>Talend</td>\n",
              "      <td>https://jobs.lever.co/talend/d6f028a9-cafd-42f...</td>\n",
              "      <td>None</td>\n",
              "    </tr>\n",
              "    <tr>\n",
              "      <th>3</th>\n",
              "      <td>125117</td>\n",
              "      <td>NaN</td>\n",
              "      <td>Unknown</td>\n",
              "      <td>https://hopjump.com/jobs.html?2398218?gh_jid=2...</td>\n",
              "      <td>None</td>\n",
              "    </tr>\n",
              "    <tr>\n",
              "      <th>4</th>\n",
              "      <td>110964</td>\n",
              "      <td>NaN</td>\n",
              "      <td>Unknown</td>\n",
              "      <td>https://mail.google.com/mail/u/1/#inbox</td>\n",
              "      <td>None</td>\n",
              "    </tr>\n",
              "  </tbody>\n",
              "</table>\n",
              "</div>"
            ],
            "text/plain": [
              "       id  ... job_source\n",
              "0  125114  ...       None\n",
              "1  125115  ...       None\n",
              "2  125116  ...       None\n",
              "3  125117  ...       None\n",
              "4  110964  ...       None\n",
              "\n",
              "[5 rows x 5 columns]"
            ]
          },
          "metadata": {
            "tags": []
          },
          "execution_count": 5
        }
      ]
    },
    {
      "cell_type": "code",
      "metadata": {
        "colab": {
          "base_uri": "https://localhost:8080/",
          "height": 204
        },
        "id": "fw0alGA_II40",
        "outputId": "8bf79704-ba2b-4436-a858-d4c45a657108"
      },
      "source": [
        "# READ JSON FILE USING PANDAS\n",
        "job_boards_JSON = pd.read_json(jobBoards_path,orient='columns')\n",
        "job_boards_JSON.head()"
      ],
      "execution_count": null,
      "outputs": [
        {
          "output_type": "execute_result",
          "data": {
            "text/html": [
              "<div>\n",
              "<style scoped>\n",
              "    .dataframe tbody tr th:only-of-type {\n",
              "        vertical-align: middle;\n",
              "    }\n",
              "\n",
              "    .dataframe tbody tr th {\n",
              "        vertical-align: top;\n",
              "    }\n",
              "\n",
              "    .dataframe thead th {\n",
              "        text-align: right;\n",
              "    }\n",
              "</style>\n",
              "<table border=\"1\" class=\"dataframe\">\n",
              "  <thead>\n",
              "    <tr style=\"text-align: right;\">\n",
              "      <th></th>\n",
              "      <th>job_boards</th>\n",
              "    </tr>\n",
              "  </thead>\n",
              "  <tbody>\n",
              "    <tr>\n",
              "      <th>0</th>\n",
              "      <td>{'name': 'Google', 'rating': 'Great', 'root_do...</td>\n",
              "    </tr>\n",
              "    <tr>\n",
              "      <th>1</th>\n",
              "      <td>{'name': 'Glassdoor', 'rating': 'Great', 'root...</td>\n",
              "    </tr>\n",
              "    <tr>\n",
              "      <th>2</th>\n",
              "      <td>{'name': 'AngelList', 'rating': 'Great', 'root...</td>\n",
              "    </tr>\n",
              "    <tr>\n",
              "      <th>3</th>\n",
              "      <td>{'name': 'LinkedIn', 'rating': 'Great', 'root_...</td>\n",
              "    </tr>\n",
              "    <tr>\n",
              "      <th>4</th>\n",
              "      <td>{'name': 'Dribble', 'rating': 'Great', 'root_d...</td>\n",
              "    </tr>\n",
              "  </tbody>\n",
              "</table>\n",
              "</div>"
            ],
            "text/plain": [
              "                                          job_boards\n",
              "0  {'name': 'Google', 'rating': 'Great', 'root_do...\n",
              "1  {'name': 'Glassdoor', 'rating': 'Great', 'root...\n",
              "2  {'name': 'AngelList', 'rating': 'Great', 'root...\n",
              "3  {'name': 'LinkedIn', 'rating': 'Great', 'root_...\n",
              "4  {'name': 'Dribble', 'rating': 'Great', 'root_d..."
            ]
          },
          "metadata": {
            "tags": []
          },
          "execution_count": 6
        }
      ]
    },
    {
      "cell_type": "code",
      "metadata": {
        "colab": {
          "base_uri": "https://localhost:8080/",
          "height": 204
        },
        "id": "MXkw2ySsJRsJ",
        "outputId": "9094896d-2cc1-418a-c8a5-de295087c034"
      },
      "source": [
        "# job_boards_DF -> DATAFRAME TO HANDLE JOB BOARDS DATA\n",
        "job_boards_DF = pd.read_json((job_boards_JSON['job_boards']).to_json(),orient='index')\n",
        "job_boards_DF.head()"
      ],
      "execution_count": null,
      "outputs": [
        {
          "output_type": "execute_result",
          "data": {
            "text/html": [
              "<div>\n",
              "<style scoped>\n",
              "    .dataframe tbody tr th:only-of-type {\n",
              "        vertical-align: middle;\n",
              "    }\n",
              "\n",
              "    .dataframe tbody tr th {\n",
              "        vertical-align: top;\n",
              "    }\n",
              "\n",
              "    .dataframe thead th {\n",
              "        text-align: right;\n",
              "    }\n",
              "</style>\n",
              "<table border=\"1\" class=\"dataframe\">\n",
              "  <thead>\n",
              "    <tr style=\"text-align: right;\">\n",
              "      <th></th>\n",
              "      <th>name</th>\n",
              "      <th>rating</th>\n",
              "      <th>root_domain</th>\n",
              "      <th>logo_file</th>\n",
              "      <th>description</th>\n",
              "    </tr>\n",
              "  </thead>\n",
              "  <tbody>\n",
              "    <tr>\n",
              "      <th>0</th>\n",
              "      <td>Google</td>\n",
              "      <td>Great</td>\n",
              "      <td>google.com</td>\n",
              "      <td>https://storage.googleapis.com/pathrise-app/jo...</td>\n",
              "      <td>Surprisingly good search tool for aggregrating...</td>\n",
              "    </tr>\n",
              "    <tr>\n",
              "      <th>1</th>\n",
              "      <td>Glassdoor</td>\n",
              "      <td>Great</td>\n",
              "      <td>glassdoor.com</td>\n",
              "      <td>https://storage.googleapis.com/pathrise-app/jo...</td>\n",
              "      <td>Often has different listings then Indeed. Also...</td>\n",
              "    </tr>\n",
              "    <tr>\n",
              "      <th>2</th>\n",
              "      <td>AngelList</td>\n",
              "      <td>Great</td>\n",
              "      <td>angel.co</td>\n",
              "      <td>https://storage.googleapis.com/pathrise-app/jo...</td>\n",
              "      <td>A job board for startups. Quality varies, but ...</td>\n",
              "    </tr>\n",
              "    <tr>\n",
              "      <th>3</th>\n",
              "      <td>LinkedIn</td>\n",
              "      <td>Great</td>\n",
              "      <td>linkedin.com</td>\n",
              "      <td>https://storage.googleapis.com/pathrise-app/jo...</td>\n",
              "      <td>There are great jobs on LinkedIn. Applicants o...</td>\n",
              "    </tr>\n",
              "    <tr>\n",
              "      <th>4</th>\n",
              "      <td>Dribble</td>\n",
              "      <td>Great</td>\n",
              "      <td>dribbble.com</td>\n",
              "      <td>https://storage.googleapis.com/pathrise-app/jo...</td>\n",
              "      <td>A job board specific for designers with qualit...</td>\n",
              "    </tr>\n",
              "  </tbody>\n",
              "</table>\n",
              "</div>"
            ],
            "text/plain": [
              "        name  ...                                        description\n",
              "0     Google  ...  Surprisingly good search tool for aggregrating...\n",
              "1  Glassdoor  ...  Often has different listings then Indeed. Also...\n",
              "2  AngelList  ...  A job board for startups. Quality varies, but ...\n",
              "3   LinkedIn  ...  There are great jobs on LinkedIn. Applicants o...\n",
              "4    Dribble  ...  A job board specific for designers with qualit...\n",
              "\n",
              "[5 rows x 5 columns]"
            ]
          },
          "metadata": {
            "tags": []
          },
          "execution_count": 44
        }
      ]
    },
    {
      "cell_type": "code",
      "metadata": {
        "id": "F3dztbS1K-Dc"
      },
      "source": [
        "# STORING THE DOMAIN NAME AND COMPANY NAME IN A HASHMAP TO FURTHER PARSE JOB URL AND IDENTIFY THE SOURCE.\n",
        "_map = collections.defaultdict(str)\n",
        "for name,domain in zip(job_boards_DF['name'],job_boards_DF['root_domain']):\n",
        "  _map[domain] = name"
      ],
      "execution_count": null,
      "outputs": []
    },
    {
      "cell_type": "code",
      "metadata": {
        "colab": {
          "base_uri": "https://localhost:8080/"
        },
        "id": "H4PG8hv_LrFe",
        "outputId": "0fe6c7ba-ddcd-4a44-f08a-efedab32334d"
      },
      "source": [
        "_map"
      ],
      "execution_count": null,
      "outputs": [
        {
          "output_type": "execute_result",
          "data": {
            "text/plain": [
              "defaultdict(str,\n",
              "            {'angel.co': 'AngelList',\n",
              "             'dribbble.com': 'Dribble',\n",
              "             'employbl.com': 'Employbl',\n",
              "             'gamasutra.com': 'Gamasutra',\n",
              "             'github.com': 'Github',\n",
              "             'glassdoor.com': 'Glassdoor',\n",
              "             'google.com': 'Google',\n",
              "             'governmentjobs.com': 'Government Jobs',\n",
              "             'greenhouse.io': 'Greenhouse',\n",
              "             'hired.com': 'Hired',\n",
              "             'hiretechladies.com': 'Tech Ladies',\n",
              "             'huntr.co': 'Huntr Jobs',\n",
              "             'indeed.com': 'Indeed',\n",
              "             'intern.supply': 'Intern Supply',\n",
              "             'jobvite.com': 'Jobvite',\n",
              "             'jopwell.com': 'Jopwell',\n",
              "             'lever.co': 'Lever',\n",
              "             'linkedin.com': 'LinkedIn',\n",
              "             'monster.com': 'Monster',\n",
              "             'simplyhired.com': 'SimplyHired',\n",
              "             'smartrecruiters.com': 'SmartRecruiters',\n",
              "             'stackoverflow.com': 'Stackoverflow',\n",
              "             'stella.ai': 'Stella',\n",
              "             'triplebyte.com': 'Triplebyte',\n",
              "             'underdog.io': 'Underdog',\n",
              "             'wayup.com': 'Wayup',\n",
              "             'whoishiring.io': 'Who Is Hiring?',\n",
              "             'workatastartup.com': 'Work At A Startup',\n",
              "             'ycombinator.com': 'YCombinator Jobs',\n",
              "             'ziprecruiter.com': 'ZipRecruiter'})"
            ]
          },
          "metadata": {
            "tags": []
          },
          "execution_count": 44
        }
      ]
    },
    {
      "cell_type": "code",
      "metadata": {
        "id": "CVoa2krWOvMT"
      },
      "source": [
        "# CHECK IF DOMAIN NAME IN THE JOB URL IS PRESENT IN THE HASHMAP _map AS A KEY\n",
        "#  : IF PRESENT, SET THE JOB SOURCE AS THE VALUE OF HASHMAP _map\n",
        "#  : ELSE SET IT AS THE COMPANY NAME OR UNKNOWN IF UNAVAILABLE\n",
        "\n",
        "for idx,url in enumerate(df['job_url']):\n",
        "  try:\n",
        "    domain = urlparse(url).netloc\n",
        "    for root_domain,name in _map.items():\n",
        "      if root_domain in domain:\n",
        "        df.iloc[idx,df.columns.get_loc('job_source')] = name\n",
        "        break\n",
        "    if not df.iloc[idx]['job_source']:\n",
        "      if df.iloc[idx]['company_name'] and df.iloc[idx]['company_name'] != 'Unknown':\n",
        "        df.iloc[idx,df.columns.get_loc('job_source')] = df.iloc[idx,df.columns.get_loc('company_name')]\n",
        "      else:\n",
        "        df.iloc[idx,df.columns.get_loc('job_source')] = 'Unknown'\n",
        "  except:\n",
        "    continue"
      ],
      "execution_count": null,
      "outputs": []
    },
    {
      "cell_type": "code",
      "metadata": {
        "id": "nxBXqs521ffi"
      },
      "source": [
        "# FIND THE COMPANIES THAT DOES NOT HAVE A JOB SOURCE AND HAS JOB SOURCE VALUE AS THE COMPANY NAME ITSELF\n",
        "remaining_companies = set(df['job_source']).difference(set(job_boards_DF['name']))"
      ],
      "execution_count": null,
      "outputs": []
    },
    {
      "cell_type": "code",
      "metadata": {
        "colab": {
          "base_uri": "https://localhost:8080/"
        },
        "id": "KpyQeR4-1yiq",
        "outputId": "ee1cef60-56af-4b4b-a9ab-2bf61ff9589c"
      },
      "source": [
        "# CROSS CHECKING FOR VALIDATION\n",
        "if 'LinkedIn' in remaining_companies:\n",
        "  print(True)\n",
        "else:\n",
        "  print(False)"
      ],
      "execution_count": null,
      "outputs": [
        {
          "output_type": "stream",
          "text": [
            "False\n"
          ],
          "name": "stdout"
        }
      ]
    },
    {
      "cell_type": "code",
      "metadata": {
        "id": "8CaUM-8w2gl6"
      },
      "source": [
        "# APPEND THE REMAINING COMPANIES IN THE job_boards_DF WITH name AS THE company name \n",
        "# AND DEFAULT VALUES FOR OTHER FIELDS AS BELOW\n",
        "for company in remaining_companies:\n",
        "  job_boards_DF = job_boards_DF.append({'name': company,'rating':'rating N/A','root_domain': None,'logo_file':'N/A','description':company}, ignore_index=True)"
      ],
      "execution_count": null,
      "outputs": []
    },
    {
      "cell_type": "code",
      "metadata": {
        "colab": {
          "base_uri": "https://localhost:8080/",
          "height": 204
        },
        "id": "rUEclEIh4Pzq",
        "outputId": "14ecf253-bbf6-4df0-f864-ce450f5f79f8"
      },
      "source": [
        "job_boards_DF.tail()"
      ],
      "execution_count": null,
      "outputs": [
        {
          "output_type": "execute_result",
          "data": {
            "text/html": [
              "<div>\n",
              "<style scoped>\n",
              "    .dataframe tbody tr th:only-of-type {\n",
              "        vertical-align: middle;\n",
              "    }\n",
              "\n",
              "    .dataframe tbody tr th {\n",
              "        vertical-align: top;\n",
              "    }\n",
              "\n",
              "    .dataframe thead th {\n",
              "        text-align: right;\n",
              "    }\n",
              "</style>\n",
              "<table border=\"1\" class=\"dataframe\">\n",
              "  <thead>\n",
              "    <tr style=\"text-align: right;\">\n",
              "      <th></th>\n",
              "      <th>name</th>\n",
              "      <th>rating</th>\n",
              "      <th>root_domain</th>\n",
              "      <th>logo_file</th>\n",
              "      <th>description</th>\n",
              "    </tr>\n",
              "  </thead>\n",
              "  <tbody>\n",
              "    <tr>\n",
              "      <th>1813</th>\n",
              "      <td>Republic</td>\n",
              "      <td>rating N/A</td>\n",
              "      <td>None</td>\n",
              "      <td>N/A</td>\n",
              "      <td>Republic</td>\n",
              "    </tr>\n",
              "    <tr>\n",
              "      <th>1814</th>\n",
              "      <td>Mark43</td>\n",
              "      <td>rating N/A</td>\n",
              "      <td>None</td>\n",
              "      <td>N/A</td>\n",
              "      <td>Mark43</td>\n",
              "    </tr>\n",
              "    <tr>\n",
              "      <th>1815</th>\n",
              "      <td>Glaxo Group</td>\n",
              "      <td>rating N/A</td>\n",
              "      <td>None</td>\n",
              "      <td>N/A</td>\n",
              "      <td>Glaxo Group</td>\n",
              "    </tr>\n",
              "    <tr>\n",
              "      <th>1816</th>\n",
              "      <td>Go To Market Enablement - Associate / Manager,...</td>\n",
              "      <td>rating N/A</td>\n",
              "      <td>None</td>\n",
              "      <td>N/A</td>\n",
              "      <td>Go To Market Enablement - Associate / Manager,...</td>\n",
              "    </tr>\n",
              "    <tr>\n",
              "      <th>1817</th>\n",
              "      <td>Capitol Group</td>\n",
              "      <td>rating N/A</td>\n",
              "      <td>None</td>\n",
              "      <td>N/A</td>\n",
              "      <td>Capitol Group</td>\n",
              "    </tr>\n",
              "  </tbody>\n",
              "</table>\n",
              "</div>"
            ],
            "text/plain": [
              "                                                   name  ...                                        description\n",
              "1813                                           Republic  ...                                           Republic\n",
              "1814                                             Mark43  ...                                             Mark43\n",
              "1815                                        Glaxo Group  ...                                        Glaxo Group\n",
              "1816  Go To Market Enablement - Associate / Manager,...  ...  Go To Market Enablement - Associate / Manager,...\n",
              "1817                                      Capitol Group  ...                                      Capitol Group\n",
              "\n",
              "[5 rows x 5 columns]"
            ]
          },
          "metadata": {
            "tags": []
          },
          "execution_count": 47
        }
      ]
    },
    {
      "cell_type": "code",
      "metadata": {
        "id": "o66cQmhNBTJX"
      },
      "source": [
        "# TO COUNT THE TOTAL NUMBER OF JOBS FOR EACH JOB SOURCE\n",
        "jobCounter = collections.defaultdict(int)\n",
        "for source in df['job_source']:\n",
        "  if source:\n",
        "    jobCounter[source] += 1"
      ],
      "execution_count": null,
      "outputs": []
    },
    {
      "cell_type": "code",
      "metadata": {
        "id": "e2rc2ykTCRET"
      },
      "source": [
        "# DUMPING THE COUNTER IN A JSON FILE\n",
        "with open(\"/content/drive/MyDrive/Pathrise-Assignment/Files/jobCounter.json\", \"w\") as outfile:  \n",
        "    json.dump(jobCounter, outfile)"
      ],
      "execution_count": null,
      "outputs": []
    },
    {
      "cell_type": "code",
      "metadata": {
        "id": "wbHt4sFFX-0R"
      },
      "source": [
        "# PATH THE SQLITE3 DATABASE I CREATED USING TERMINAL\n",
        "db_path = '/content/drive/MyDrive/Pathrise-Assignment/SQL_DB/jobOpportunites.db'"
      ],
      "execution_count": null,
      "outputs": []
    },
    {
      "cell_type": "code",
      "metadata": {
        "id": "NuEEC4xQUSK4"
      },
      "source": [
        "# CONNECTION OBJECT TO THE DATABASE\n",
        "con = sqlite3.connect(db_path)"
      ],
      "execution_count": null,
      "outputs": []
    },
    {
      "cell_type": "code",
      "metadata": {
        "id": "UhbdW_POYBqO"
      },
      "source": [
        "# DUMPING THE DATAFRAME AS TABLES DIRECTLY INTO THE DATABASE USING PANDAS' to_sql() FUNCTION.\n",
        "df.to_sql('JobListings',con,if_exists='replace')\n",
        "job_boards_DF.to_sql('JobBoards',con,if_exists='replace')"
      ],
      "execution_count": null,
      "outputs": []
    },
    {
      "cell_type": "code",
      "metadata": {
        "colab": {
          "base_uri": "https://localhost:8080/"
        },
        "id": "pdsqYz5xYSjc",
        "outputId": "7337b91b-a1a9-4640-90eb-33a6a14653de"
      },
      "source": [
        "curr = con.cursor()\n",
        "for row in curr.execute('SELECT * FROM JobListings LIMIT 5'):\n",
        "  print(row)"
      ],
      "execution_count": null,
      "outputs": [
        {
          "output_type": "stream",
          "text": [
            "(0, 125114, 'Junior Software Engineer', 'talend', 'https://www.linkedin.com/jobs/view/2357043904/?refId=ZKEVDnVCmI5kUntfCsC7OQ%3D%3D&eBP=NotAvailableFromMidTier', 'LinkedIn')\n",
            "(1, 125115, 'Junior Software Engineer', 'Talend', 'https://jobs.lever.co/talend/d6f028a9-cafd-42fe-9f90-f89f7cb695d9', 'Lever')\n",
            "(2, 125116, 'Junior Software Engineer', 'Talend', 'https://jobs.lever.co/talend/d6f028a9-cafd-42fe-9f90-f89f7cb695d9/apply', 'Lever')\n",
            "(3, 125117, None, 'Unknown', 'https://hopjump.com/jobs.html?2398218?gh_jid=2398218#positions', 'Unknown')\n",
            "(4, 110964, None, 'Unknown', 'https://mail.google.com/mail/u/1/#inbox', 'Google')\n"
          ],
          "name": "stdout"
        }
      ]
    },
    {
      "cell_type": "code",
      "metadata": {
        "colab": {
          "base_uri": "https://localhost:8080/"
        },
        "id": "_YOi2RmImbMT",
        "outputId": "45e3fb18-8076-4d89-ad9d-e7ea88f4ff01"
      },
      "source": [
        "curr = con.cursor()\n",
        "for row in curr.execute('SELECT * FROM JobBoards LIMIT 5'):\n",
        "  print(row)"
      ],
      "execution_count": null,
      "outputs": [
        {
          "output_type": "stream",
          "text": [
            "(0, 'Google', 'Great', 'google.com', 'https://storage.googleapis.com/pathrise-app/job_sources/google.png', 'Surprisingly good search tool for aggregrating jobs across other job boards. try to limit to only more recent jobs like posted in the past few weeks.')\n",
            "(1, 'Glassdoor', 'Great', 'glassdoor.com', 'https://storage.googleapis.com/pathrise-app/job_sources/glassdoor.png', 'Often has different listings then Indeed. Also try to look under more unconventional locations if you can.')\n",
            "(2, 'AngelList', 'Great', 'angel.co', 'https://storage.googleapis.com/pathrise-app/job_sources/angellist.png', 'A job board for startups. Quality varies, but several of our fellows have found success applying for jobs here.')\n",
            "(3, 'LinkedIn', 'Great', 'linkedin.com', 'https://storage.googleapis.com/pathrise-app/job_sources/linkedin.png', 'There are great jobs on LinkedIn. Applicants on LinkedIn are often higher quality for recruiters, but come at a more expensive cost.')\n",
            "(4, 'Dribble', 'Great', 'dribbble.com', 'https://storage.googleapis.com/pathrise-app/job_sources/dribble.png', 'A job board specific for designers with quality listings.')\n"
          ],
          "name": "stdout"
        }
      ]
    },
    {
      "cell_type": "code",
      "metadata": {
        "id": "5xH1oWAMstzO"
      },
      "source": [
        "# COMMITING AND CLOSING THE CONNECTION\n",
        "con.commit()\n",
        "con.close()"
      ],
      "execution_count": null,
      "outputs": []
    }
  ]
}